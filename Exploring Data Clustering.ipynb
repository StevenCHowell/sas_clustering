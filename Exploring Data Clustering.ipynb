{
 "cells": [
  {
   "cell_type": "markdown",
   "metadata": {},
   "source": [
    "# Exploring Data Clustering\n",
    "\n",
    "Approaches to explore:\n",
    "- [Priciple Component Analysis](https://en.wikipedia.org/wiki/Principal_component_analysis): [scikit-learn](http://scikit-learn.org/stable/auto_examples/decomposition/plot_pca_3d.html)\n",
    "- [Hierarchical Clustering](https://en.wikipedia.org/wiki/Hierarchical_clustering): [scikit-learn](http://scikit-learn.org/stable/modules/clustering.html) [DBSCAN](http://scikit-learn.org/stable/modules/clustering.html#dbscan)\n",
    "\n"
   ]
  },
  {
   "cell_type": "markdown",
   "metadata": {},
   "source": [
    "### Notes on [DBSCAN](http://scikit-learn.org/stable/modules/clustering.html#dbscan):\n",
    "There are two parameters to the algorithm, `min_samples` and `eps`, which define formally what we mean when we say dense. Higher `min_samples` or lower `eps` indicate higher density necessary to form a cluster.\n",
    "\n",
    "More formally, we define a core sample as being a sample in the dataset such that there exist `min_samples` other samples within a distance of `eps`, which are defined as neighbors of the core sample. This tells us that the core sample is in a dense area of the vector space. A cluster is a set of core samples, that can be built by recursively by taking a core sample, finding all of its neighbors that are core samples, finding all of their neighbors that are core samples, and so on. A cluster also has a set of non-core samples, which are samples that are neighbors of a core sample in the cluster but are not themselves core samples. Intuitively, these samples are on the fringes of a cluster.\n",
    "\n",
    "Any core sample is part of a cluster, by definition. Further, any cluster has at least min_samples points in it, following the definition of a core sample. For any sample that is not a core sample, and does have a distance higher than eps to any core sample, it is considered an outlier by the algorithm."
   ]
  },
  {
   "cell_type": "markdown",
   "metadata": {},
   "source": [
    "### Import and manipulate SAS data\n"
   ]
  },
  {
   "cell_type": "code",
   "execution_count": 12,
   "metadata": {
    "collapsed": true
   },
   "outputs": [],
   "source": [
    "import glob\n",
    "import os.path as op\n",
    "import numpy as np"
   ]
  },
  {
   "cell_type": "code",
   "execution_count": 2,
   "metadata": {
    "collapsed": false
   },
   "outputs": [
    {
     "name": "stdout",
     "output_type": "stream",
     "text": [
      "sascalc/xray/*.iq\n",
      "sascalc/neutron_D2Op_100/*.iq\n"
     ]
    }
   ],
   "source": [
    "sas_dir = 'sascalc'\n",
    "saxs_dir = 'xray'\n",
    "sans_dir = 'neutron_D2Op_100'\n",
    "sas_ext = '*.iq'\n",
    "saxs_search = op.join(sas_dir, saxs_dir, sas_ext)\n",
    "sans_search = op.join(sas_dir, sans_dir, sas_ext)\n",
    "print(saxs_search)\n",
    "print(sans_search)"
   ]
  },
  {
   "cell_type": "code",
   "execution_count": 10,
   "metadata": {
    "collapsed": false
   },
   "outputs": [
    {
     "name": "stdout",
     "output_type": "stream",
     "text": [
      "200\n",
      "200\n"
     ]
    }
   ],
   "source": [
    "saxs_files = glob.glob(saxs_search)\n",
    "sans_files = glob.glob(sans_search)\n",
    "print(len(saxs_files))\n",
    "print(len(sans_files))"
   ]
  },
  {
   "cell_type": "code",
   "execution_count": 37,
   "metadata": {
    "collapsed": false
   },
   "outputs": [],
   "source": [
    "saxs_data = []\n",
    "first_data = np.loadtxt(saxs_files[0])\n",
    "saxs_data.append(first_data[1:, 1])\n",
    "for saxs_file in saxs_files[1:]:\n",
    "    this_data = np.loadtxt(saxs_file)\n",
    "    assert np.allclose(this_data[0, 1], first_data[0, 1]), 'ERROR: data not normalize'\n",
    "    assert np.allclose(this_data[:, 0], first_data[:, 0]), 'ERROR: data not on same Q-grid'\n",
    "    saxs_data.append(this_data[1:, 1])\n",
    "saxs_data = np.array(saxs_data)"
   ]
  },
  {
   "cell_type": "code",
   "execution_count": 40,
   "metadata": {
    "collapsed": true
   },
   "outputs": [],
   "source": [
    "q_values = this_data[1:, 0]"
   ]
  },
  {
   "cell_type": "code",
   "execution_count": 41,
   "metadata": {
    "collapsed": false
   },
   "outputs": [
    {
     "data": {
      "text/plain": [
       "array([ 0.01,  0.02,  0.03,  0.04,  0.05,  0.06,  0.07,  0.08,  0.09,\n",
       "        0.1 ,  0.11,  0.12,  0.13,  0.14,  0.15,  0.16,  0.17,  0.18,\n",
       "        0.19,  0.2 ,  0.21,  0.22,  0.23,  0.24,  0.25,  0.26,  0.27,\n",
       "        0.28,  0.29,  0.3 ,  0.31,  0.32,  0.33,  0.34,  0.35,  0.36,\n",
       "        0.37,  0.38,  0.39,  0.4 ])"
      ]
     },
     "execution_count": 41,
     "metadata": {},
     "output_type": "execute_result"
    }
   ],
   "source": [
    "q_values"
   ]
  },
  {
   "cell_type": "code",
   "execution_count": 42,
   "metadata": {
    "collapsed": false
   },
   "outputs": [],
   "source": [
    "nd, nq = saxs_data.shape # for PCA, should be (n_samples, n_features)"
   ]
  },
  {
   "cell_type": "code",
   "execution_count": 43,
   "metadata": {
    "collapsed": false
   },
   "outputs": [
    {
     "data": {
      "text/plain": [
       "(40, 200)"
      ]
     },
     "execution_count": 43,
     "metadata": {},
     "output_type": "execute_result"
    }
   ],
   "source": [
    "nq, nd"
   ]
  },
  {
   "cell_type": "code",
   "execution_count": 44,
   "metadata": {
    "collapsed": false
   },
   "outputs": [
    {
     "data": {
      "text/plain": [
       "array([[ 0.109218,  0.084704,  0.056446,  0.034189,  0.021314],\n",
       "       [ 0.109229,  0.084742,  0.056516,  0.034278,  0.021403],\n",
       "       [ 0.109209,  0.08468 ,  0.056426,  0.034189,  0.021332],\n",
       "       [ 0.109217,  0.084712,  0.05648 ,  0.034219,  0.021273],\n",
       "       [ 0.109084,  0.084166,  0.055315,  0.032548,  0.019586]])"
      ]
     },
     "execution_count": 44,
     "metadata": {},
     "output_type": "execute_result"
    }
   ],
   "source": [
    "saxs_data[:5, :5] "
   ]
  },
  {
   "cell_type": "code",
   "execution_count": 47,
   "metadata": {
    "collapsed": false
   },
   "outputs": [
    {
     "name": "stdout",
     "output_type": "stream",
     "text": [
      "[  3.06600000e-03   9.43600000e-03   1.33460000e-02   1.14230000e-02\n",
      "   7.35500000e-03   4.51100000e-03   3.98700000e-03   2.87300000e-03\n",
      "   1.59900000e-03   1.02400000e-03   9.73000000e-04   9.71000000e-04\n",
      "   8.56000000e-04   7.61000000e-04   6.38000000e-04   5.57000000e-04\n",
      "   5.14000000e-04   5.20000000e-04   4.33000000e-04   2.53000000e-04\n",
      "   1.81000000e-04   1.41000000e-04   1.21000000e-04   1.11000000e-04\n",
      "   8.90000000e-05   8.00000000e-05   7.80000000e-05   6.20000000e-05\n",
      "   5.50000000e-05   5.20000000e-05   5.20000000e-05   5.40000000e-05\n",
      "   5.60000000e-05   5.60000000e-05   4.80000000e-05   4.30000000e-05\n",
      "   3.70000000e-05   3.50000000e-05   3.40000000e-05   3.10000000e-05]\n"
     ]
    }
   ],
   "source": [
    "min_vals = saxs_data.min(axis=0)\n",
    "max_vals = saxs_data.max(axis=0)\n",
    "saxs_range = max_vals - min_vals\n",
    "print(saxs_range)"
   ]
  },
  {
   "cell_type": "markdown",
   "metadata": {},
   "source": [
    "#### Rescale the data\n",
    "Originally used `StandardScaler` but changed to `RobustScaler` to avoid complications from outliers (which skew the mean)"
   ]
  },
  {
   "cell_type": "code",
   "execution_count": 80,
   "metadata": {
    "collapsed": true
   },
   "outputs": [],
   "source": [
    "from sklearn.preprocessing import StandardScaler, RobustScaler\n",
    "scaler = RobustScaler()"
   ]
  },
  {
   "cell_type": "code",
   "execution_count": 81,
   "metadata": {
    "collapsed": false
   },
   "outputs": [
    {
     "data": {
      "text/plain": [
       "RobustScaler(copy=True, with_centering=True, with_scaling=True)"
      ]
     },
     "execution_count": 81,
     "metadata": {},
     "output_type": "execute_result"
    }
   ],
   "source": [
    "scaler.fit(saxs_data)"
   ]
  },
  {
   "cell_type": "code",
   "execution_count": 82,
   "metadata": {
    "collapsed": false
   },
   "outputs": [
    {
     "name": "stdout",
     "output_type": "stream",
     "text": [
      "[[-0.49091402 -0.40799064 -0.32635368 -0.05543155  0.90684171]\n",
      " [-0.4789802  -0.39431297 -0.30578209 -0.02232143  0.95177985]\n",
      " [-0.50067806 -0.41662917 -0.33223128 -0.05543155  0.91593032]\n",
      " [-0.49199892 -0.40511113 -0.31636177 -0.04427083  0.88613986]\n",
      " [-0.63628967 -0.60163772 -0.65873191 -0.66592262  0.03433476]]\n"
     ]
    }
   ],
   "source": [
    "scaled_data = scaler.transform(saxs_data)\n",
    "print(scaled_data[:5, :5])"
   ]
  },
  {
   "cell_type": "code",
   "execution_count": 83,
   "metadata": {
    "collapsed": false
   },
   "outputs": [
    {
     "name": "stdout",
     "output_type": "stream",
     "text": [
      "[ 3.32628153  3.39638261  3.92212181  4.24962798  3.71370866  2.55943262\n",
      "  2.84531668  3.72512156  3.16947473  5.27155727  6.76869565  5.46272855\n",
      "  4.29611041  4.51632047  2.93333333  3.23367199  3.85018727  4.3153527\n",
      "  3.90970655  3.5017301   3.23214286  2.87755102  3.27027027  4.0733945\n",
      "  3.42307692  4.          4.10526316  3.875       4.23076923  4.\n",
      "  4.33333333  4.15384615  4.57142857  4.66666667  3.42857143  3.58333333\n",
      "  3.36363636  3.18181818  3.77777778  3.875     ]\n"
     ]
    }
   ],
   "source": [
    "min_vals = scaled_data.min(axis=0)\n",
    "max_vals = scaled_data.max(axis=0)\n",
    "scaled_range = max_vals - min_vals\n",
    "print(scaled_range)"
   ]
  },
  {
   "cell_type": "code",
   "execution_count": 84,
   "metadata": {
    "collapsed": true
   },
   "outputs": [],
   "source": [
    "import matplotlib.pyplot as plt\n",
    "%matplotlib inline"
   ]
  },
  {
   "cell_type": "code",
   "execution_count": 85,
   "metadata": {
    "collapsed": false
   },
   "outputs": [
    {
     "data": {
      "text/plain": [
       "<matplotlib.text.Text at 0x1183dcfd0>"
      ]
     },
     "execution_count": 85,
     "metadata": {},
     "output_type": "execute_result"
    },
    {
     "data": {
      "image/png": "[encoded data removed]",
      "text/plain": [
       "<matplotlib.figure.Figure at 0x11835aef0>"
      ]
     },
     "metadata": {},
     "output_type": "display_data"
    },
    {
     "data": {
      "image/png": "[encoded data removed]",
      "text/plain": [
       "<matplotlib.figure.Figure at 0x1183ae9b0>"
      ]
     },
     "metadata": {},
     "output_type": "display_data"
    }
   ],
   "source": [
    "plt.figure()\n",
    "plt.plot(saxs_data[:,0], saxs_data[:,5], 'bo')\n",
    "plt.title('original data')\n",
    "plt.figure()\n",
    "plt.plot(scaled_data[:,0], scaled_data[:,5], 'bo')\n",
    "plt.title('scaled data')"
   ]
  },
  {
   "cell_type": "code",
   "execution_count": 86,
   "metadata": {
    "collapsed": false
   },
   "outputs": [
    {
     "data": {
      "text/plain": [
       "<matplotlib.text.Text at 0x1181dcf60>"
      ]
     },
     "execution_count": 86,
     "metadata": {},
     "output_type": "execute_result"
    },
    {
     "data": {
      "image/png": "[encoded data removed]",
      "text/plain": [
       "<matplotlib.figure.Figure at 0x1183c27b8>"
      ]
     },
     "metadata": {},
     "output_type": "display_data"
    },
    {
     "data": {
      "image/png": "[encoded data removed]",
      "text/plain": [
       "<matplotlib.figure.Figure at 0x118364908>"
      ]
     },
     "metadata": {},
     "output_type": "display_data"
    }
   ],
   "source": [
    "i_compare = 39\n",
    "plt.figure()\n",
    "plt.plot(saxs_data[:,0], saxs_data[:, i_compare], 'bo')\n",
    "plt.title('original data')\n",
    "plt.figure()\n",
    "plt.plot(scaled_data[:,0], scaled_data[:, i_compare], 'bo')\n",
    "plt.title('scaled data')"
   ]
  },
  {
   "cell_type": "markdown",
   "metadata": {
    "collapsed": true
   },
   "source": [
    "### PCA Analysis"
   ]
  },
  {
   "cell_type": "code",
   "execution_count": 9,
   "metadata": {
    "collapsed": false
   },
   "outputs": [
    {
     "name": "stderr",
     "output_type": "stream",
     "text": [
      "/opt/intel/intelpython35/envs/py35/lib/python3.5/site-packages/matplotlib/__init__.py:872: UserWarning: axes.color_cycle is deprecated and replaced with axes.prop_cycle; please use the latter.\n",
      "  warnings.warn(self.msg_depr % (key, alt_key))\n"
     ]
    }
   ],
   "source": [
    "from sklearn.decomposition import PCA\n",
    "from mpl_toolkits.mplot3d import Axes3D\n",
    "import numpy as np\n",
    "import matplotlib.pyplot as plt\n",
    "from scipy import stats"
   ]
  },
  {
   "cell_type": "code",
   "execution_count": 87,
   "metadata": {
    "collapsed": false
   },
   "outputs": [
    {
     "data": {
      "text/plain": [
       "PCA(copy=True, n_components=None, whiten=False)"
      ]
     },
     "execution_count": 87,
     "metadata": {},
     "output_type": "execute_result"
    }
   ],
   "source": [
    "pca_orig = PCA()\n",
    "pca_orig.fit(saxs_data)"
   ]
  },
  {
   "cell_type": "code",
   "execution_count": 88,
   "metadata": {
    "collapsed": false
   },
   "outputs": [
    {
     "data": {
      "text/plain": [
       "PCA(copy=True, n_components=None, whiten=False)"
      ]
     },
     "execution_count": 88,
     "metadata": {},
     "output_type": "execute_result"
    }
   ],
   "source": [
    "pca_scaled = PCA()\n",
    "pca_scaled.fit(scaled_data)"
   ]
  },
  {
   "cell_type": "code",
   "execution_count": 89,
   "metadata": {
    "collapsed": false
   },
   "outputs": [
    {
     "name": "stdout",
     "output_type": "stream",
     "text": [
      "[  8.22118279e-01   1.63556003e-01   7.18024657e-03   3.14522346e-03\n",
      "   1.73006833e-03   9.59764131e-04   9.16954481e-04   2.30150295e-04\n",
      "   7.32214950e-05   4.07944391e-05   1.38683407e-05   1.19528038e-05\n",
      "   8.00134790e-06   7.90540430e-06   4.49344720e-06   1.72459909e-06\n",
      "   7.58251882e-07   4.27552153e-07   8.14318050e-08   8.55113149e-09\n",
      "   5.77151351e-09   5.76428269e-09   5.39960282e-09   5.09315489e-09\n",
      "   4.98508202e-09   4.52150524e-09   4.20053384e-09   4.15026353e-09\n",
      "   3.98753893e-09   3.95730107e-09   3.61202819e-09   3.29702866e-09\n",
      "   2.86072616e-09   2.65455410e-09   2.63559275e-09   2.29174069e-09\n",
      "   2.15153327e-09   2.12643283e-09   1.82400091e-09   1.53500853e-09]\n",
      "[  1.74798695e-01   1.60448012e-01   1.42743006e-01   9.48058329e-02\n",
      "   8.91554185e-02   7.00428052e-02   6.08753528e-02   5.49583598e-02\n",
      "   4.57464873e-02   3.30540883e-02   2.92641079e-02   1.82182173e-02\n",
      "   9.25326614e-03   6.89166242e-03   4.84101794e-03   2.44373863e-03\n",
      "   1.60435949e-03   5.17554289e-04   1.79660213e-04   3.79952884e-05\n",
      "   2.52007937e-05   2.38919513e-05   2.15243661e-05   2.04303715e-05\n",
      "   1.32908790e-05   8.56334026e-06   3.90315627e-06   1.86575439e-06\n",
      "   9.45327247e-07   2.89176934e-07   1.68167257e-07   9.87278059e-08\n",
      "   8.29630737e-08   7.76708083e-08   2.15779603e-08   4.82226495e-09\n",
      "   2.04195077e-09   1.05065219e-09   4.92917003e-10   3.28848717e-10]\n"
     ]
    }
   ],
   "source": [
    "print(pca_orig.explained_variance_ratio_)\n",
    "print(pca_scaled.explained_variance_ratio_)"
   ]
  },
  {
   "cell_type": "code",
   "execution_count": 93,
   "metadata": {
    "collapsed": false
   },
   "outputs": [
    {
     "data": {
      "text/plain": [
       "<matplotlib.legend.Legend at 0x11839ccc0>"
      ]
     },
     "execution_count": 93,
     "metadata": {},
     "output_type": "execute_result"
    },
    {
     "data": {
      "image/png": "[encoded data removed]",
      "text/plain": [
       "<matplotlib.figure.Figure at 0x117b14f60>"
      ]
     },
     "metadata": {},
     "output_type": "display_data"
    }
   ],
   "source": [
    "plt.figure()\n",
    "plt.plot(q_values, pca_orig.explained_variance_ratio_, 'o', label='unscaled')\n",
    "plt.plot(q_values, pca_scaled.explained_variance_ratio_, 's', label='scaled')\n",
    "plt.legend()"
   ]
  },
  {
   "cell_type": "code",
   "execution_count": 31,
   "metadata": {
    "collapsed": false
   },
   "outputs": [
    {
     "data": {
      "text/plain": [
       "PCA(copy=True, n_components=None, whiten=False)"
      ]
     },
     "execution_count": 31,
     "metadata": {},
     "output_type": "execute_result"
    }
   ],
   "source": [
    "pca"
   ]
  },
  {
   "cell_type": "code",
   "execution_count": 64,
   "metadata": {
    "collapsed": false
   },
   "outputs": [],
   "source": [
    "from sklearn.datasets.samples_generator import make_blobs"
   ]
  },
  {
   "cell_type": "code",
   "execution_count": 73,
   "metadata": {
    "collapsed": true
   },
   "outputs": [],
   "source": [
    "centers = [[1, 1], [-1, -1], [1, -1]]\n",
    "X, labels_true = make_blobs(n_samples=750, centers=centers, cluster_std=0.4,\n",
    "                            random_state=0)"
   ]
  },
  {
   "cell_type": "code",
   "execution_count": 74,
   "metadata": {
    "collapsed": true
   },
   "outputs": [],
   "source": [
    "X_scaled = StandardScaler().fit_transform(X)"
   ]
  },
  {
   "cell_type": "code",
   "execution_count": 75,
   "metadata": {
    "collapsed": false
   },
   "outputs": [
    {
     "name": "stdout",
     "output_type": "stream",
     "text": [
      "[ 4.30150856  4.18343869]\n"
     ]
    }
   ],
   "source": [
    "X_range = X.max(axis=0) - X.min(axis=0)\n",
    "print(X_range)"
   ]
  },
  {
   "cell_type": "code",
   "execution_count": 76,
   "metadata": {
    "collapsed": false
   },
   "outputs": [
    {
     "name": "stdout",
     "output_type": "stream",
     "text": [
      "[ 4.14491229  4.06959487]\n"
     ]
    }
   ],
   "source": [
    "X_scaled_range = X_scaled.max(axis=0) - X_scaled.min(axis=0)\n",
    "print(X_scaled_range)"
   ]
  },
  {
   "cell_type": "code",
   "execution_count": 77,
   "metadata": {
    "collapsed": true
   },
   "outputs": [],
   "source": [
    "X_s2 = StandardScaler().fit_transform(X)"
   ]
  },
  {
   "cell_type": "code",
   "execution_count": 79,
   "metadata": {
    "collapsed": false
   },
   "outputs": [
    {
     "name": "stdout",
     "output_type": "stream",
     "text": [
      "[ 4.14491229  4.06959487]\n"
     ]
    }
   ],
   "source": [
    "X_s2_range = X_s2.max(axis=0) - X_s2.min(axis=0)\n",
    "print(X_s2_range)"
   ]
  },
  {
   "cell_type": "code",
   "execution_count": null,
   "metadata": {
    "collapsed": true
   },
   "outputs": [],
   "source": []
  }
 ],
 "metadata": {
  "kernelspec": {
   "display_name": "Python 3",
   "language": "python",
   "name": "python3"
  },
  "language_info": {
   "codemirror_mode": {
    "name": "ipython",
    "version": 3
   },
   "file_extension": ".py",
   "mimetype": "text/x-python",
   "name": "python",
   "nbconvert_exporter": "python",
   "pygments_lexer": "ipython3",
   "version": "3.5.2"
  }
 },
 "nbformat": 4,
 "nbformat_minor": 0
}
